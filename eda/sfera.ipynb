{
 "cells": [
  {
   "cell_type": "code",
   "execution_count": null,
   "id": "2066d0e0-6074-4604-85ce-d3a1eb2e380c",
   "metadata": {},
   "outputs": [],
   "source": [
    "%%HTML\n",
    "<style type=\"text/css\">\n",
    "table.dataframe td, table.dataframe th {\n",
    "    border-style: solid;\n",
    "}\n",
    ".jp-CodeCell.jp-mod-outputsScrolled .jp-Cell-outputArea{   \n",
    "    max-height: fit-content !important;\n",
    "    overflow-y:hidden;\n",
    "}\n",
    ".jp-RenderedHTMLCommon td, .jp-RenderedHTMLCommon th, .jp-RenderedHTMLCommon tr {\n",
    "    border-style: solid;\n",
    "}\n",
    "</style>"
   ]
  },
  {
   "cell_type": "code",
   "execution_count": null,
   "id": "efa9444e-676c-45f8-a0bd-4970d66840e1",
   "metadata": {},
   "outputs": [],
   "source": [
    "import warnings\n",
    "warnings.filterwarnings('ignore')\n",
    "from IPython.core import display as ICD\n",
    "from sfera import sfera_reports\n",
    "import json\n",
    "\n",
    "with open('.env', 'r') as f:\n",
    "  credentials = json.load(f)\n",
    "st=sfera_reports(server=\"https://sfera.inno.local\",**credentials)\n",
    "#st._init_session()"
   ]
  },
  {
   "cell_type": "markdown",
   "id": "135af4ba-1a02-489c-97f6-4e9d136d7d7b",
   "metadata": {},
   "source": [
    "## Анализ спринта"
   ]
  },
  {
   "cell_type": "code",
   "execution_count": null,
   "id": "14402078-f20a-4f7c-b7fa-ec4b8534b5f7",
   "metadata": {
    "scrolled": true
   },
   "outputs": [],
   "source": [
    "%%time\n",
    "sprint_name,project_key='2023.4.1','PAYP'\n",
    "sprint_tasks=st.get_sprint_tasks(project_key=project_key,sprint_id=st.get_sprint_id_by_name(sprint_name),full_info=True)"
   ]
  },
  {
   "cell_type": "code",
   "execution_count": null,
   "id": "318ae5eb-b9e0-4d00-b73c-fd7c0aba5d2c",
   "metadata": {},
   "outputs": [],
   "source": [
    "df,metrics=st.calc_metrics(sprint_tasks)\n",
    "metrics=st.color_metrics(metrics)\n",
    "\n",
    "for _n,_m in metrics.items():\n",
    "    print(_m['descr'])\n",
    "    ICD.display(_m['data'])"
   ]
  },
  {
   "cell_type": "markdown",
   "id": "5d036dc4-aa18-4089-89bc-255a019d0175",
   "metadata": {},
   "source": [
    "## Excel export"
   ]
  },
  {
   "cell_type": "code",
   "execution_count": null,
   "id": "2a205d2e-bbf7-417e-98e9-b8a57abfb99c",
   "metadata": {},
   "outputs": [],
   "source": [
    "df.to_excel('2023.4.1._export.xlsx',index=False)"
   ]
  },
  {
   "cell_type": "markdown",
   "id": "7d024b5b-d59f-414d-a734-06f04f155ee5",
   "metadata": {},
   "source": [
    "# Обновление Задач"
   ]
  },
  {
   "cell_type": "code",
   "execution_count": null,
   "id": "10e731ab-96e9-4ebc-abaf-c29e072f1418",
   "metadata": {},
   "outputs": [],
   "source": [
    "_u=st.update_task('PAYP-3246',task_params={\"status\":\"analysis\"})"
   ]
  },
  {
   "cell_type": "markdown",
   "id": "6e6ebbc8-9bfc-4607-a580-60dfe8cd292f",
   "metadata": {},
   "source": [
    "# Создание Задач\n",
    "## Story"
   ]
  },
  {
   "cell_type": "code",
   "execution_count": null,
   "id": "89eb4c58-af77-4fc3-a60d-c4f9c19bd53e",
   "metadata": {},
   "outputs": [],
   "source": [
    "t_data=st.create_task_data(summary='Договорные платежи без транзакционного сервиса',\n",
    "                         priority='average',\n",
    "                         status='created',\n",
    "                         task_type='story',\n",
    "                         description='tbd',\n",
    "                         assignee_email='vtb4097712@corp.dev.vtb',\n",
    "                         owner_email='vtb4097712@corp.dev.vtb',\n",
    "                         duedate='2023-12-10',\n",
    "                         estimation_sec=None,\n",
    "                         parent_issue='PAYMENTS-4876',\n",
    "                         project_code='PAYP',\n",
    "                         sprint_id=27,\n",
    "                         streamConsumer='Платежи',\n",
    "                         streamOwner='Платежи',\n",
    "                         projectconsumer_code='1565 Реализация замещающего целевого решения для вывода из эксплуатации ИС 636 Транзакционный сервис.',\n",
    "                         issue_type='Технический долг',#Новая функциональность\n",
    "                         changeType='Создание/Доработка ИС',\n",
    "                         systems='1415_1 Расчеты с поставщиками услуг',\n",
    "                         acceptanceCriteria='отсутсвие ошибок в логах',\n",
    "                         decision='ФОИВ. ФинЦЕРТ. Получение информации из ЦОП')"
   ]
  },
  {
   "cell_type": "code",
   "execution_count": null,
   "id": "0863b424-ac53-4e70-b0ab-001b6b5cfb2b",
   "metadata": {},
   "outputs": [],
   "source": [
    "_t=st.create_task(t_data)\n",
    "_t.json()"
   ]
  },
  {
   "cell_type": "code",
   "execution_count": null,
   "id": "82a4bcdd-cf31-4d19-be92-743d676acef5",
   "metadata": {},
   "outputs": [],
   "source": [
    "t_data=st.create_task_data(summary='тест.ЦОП. Реализовать возможность закрытия фин. периода без отправки  пп',\n",
    "                         priority='average',\n",
    "                         status='created',\n",
    "                         task_type='task',\n",
    "                         description='тест сашиного тикета PAYP-3196',\n",
    "                         assignee_email='VTB4040114@corp.dev.vtb',\n",
    "                         owner_email='vtb4097712@corp.dev.vtb',\n",
    "                         duedate='2023-10-10',\n",
    "                         estimation_sec=None,\n",
    "                         parent_issue='PAYMENTS-4876',\n",
    "                         project_code='PAYP',\n",
    "                         sprint_id=27,\n",
    "                         streamConsumer='Платежи',\n",
    "                         streamOwner='Платежи',\n",
    "                         projectconsumer_code='1565 Реализация замещающего целевого решения для вывода из эксплуатации ИС 636 Транзакционный сервис.',\n",
    "                         issue_type='Технический долг',#Новая функциональность\n",
    "                         changeType='Создание/Доработка ИС',\n",
    "                         systems='1415_1 Расчеты с поставщиками услуг',\n",
    "                         acceptanceCriteria='отсутсвие ошибок в логах',\n",
    "                         decision='ФОИВ. ФинЦЕРТ. Получение информации из ЦОП')\n",
    "\n",
    "_t=st.create_task(t_data)\n",
    "_t.json()"
   ]
  },
  {
   "cell_type": "code",
   "execution_count": null,
   "id": "5b962fbb-556f-4c4d-89dc-6576c82a5e15",
   "metadata": {},
   "outputs": [],
   "source": [
    "t_data={\"name\":\"Переход на целевой файловый обмен\",\"priority\":\"average\",\"status\":\"created\",\n",
    "             \"type\":\"story\",\"description\":\"<p>транзакционный мониторинг</p>\",\n",
    "             \"assignee\":\"vtb4097712@corp.dev.vtb\",\"owner\":\"vtb4097712@corp.dev.vtb\",\n",
    "             \"dueDate\":\"2023-12-08\",\"estimation\":144000,\"parent\":\"PAYMENTS-4876\",\n",
    "             \"areaCode\":\"PAYP\",\"sprint\":25,\n",
    "             \"customFieldsValues\":[{\"code\":\"streamConsumer\",\"value\":\"Платежи\"},\n",
    "                                   {\"code\":\"streamOwner\",\"value\":\"Платежи\"},\n",
    "                                   {\"code\":\"projectConsumer\",\n",
    "                                    \"value\":\"1565 Реализация замещающего целевого решения для вывода из эксплуатации ИС 636 Транзакционный сервис.\"},\n",
    "                                   {\"code\":\"workGroup\",\"value\":\"Архитектурная задача\"},\n",
    "                                   {\"code\":\"changeType\",\"value\":\"Создание/Доработка ИС\"},\n",
    "                                   {\"code\":\"systems\",\"value\":\"1415_1 Расчеты с поставщиками услуг\"},\n",
    "                                   {\"code\":\"decision\",\"value\":\"ФОИВ. ФинЦЕРТ. Получение информации из ЦОП\"},\n",
    "                                   {\"code\":\"rightTransferApproval\",\"value\":'true'},{\"code\":\"acceptanceCriteria\",\n",
    "                                                                                  \"value\":\"отсутсвие ошибок в логах\"}]},"
   ]
  },
  {
   "cell_type": "code",
   "execution_count": null,
   "id": "fad103f1-35b1-4b60-8fce-a84d64067a1a",
   "metadata": {},
   "outputs": [],
   "source": [
    "st._init_session()\n",
    "_t=st.create_task(t_data)"
   ]
  },
  {
   "cell_type": "markdown",
   "id": "2291e70c-f50d-4475-9cc6-c6d15bf44958",
   "metadata": {},
   "source": [
    "## Инфо по задаче"
   ]
  },
  {
   "cell_type": "code",
   "execution_count": null,
   "id": "3f1d20d8-15ff-4dca-909a-2173a730294d",
   "metadata": {},
   "outputs": [],
   "source": [
    "st.task_info('PAYP-3095')"
   ]
  },
  {
   "cell_type": "markdown",
   "id": "799b400c-b308-442a-8647-27dd382284a1",
   "metadata": {},
   "source": [
    "## Фильтры по задачам"
   ]
  },
  {
   "cell_type": "code",
   "execution_count": null,
   "id": "2b86b127-c4c8-45cf-994b-2ceff47564d9",
   "metadata": {},
   "outputs": [],
   "source": [
    "(area = 1729) and (state = 'Normal' and statusCategory != 'Done' and not (hasActiveSprint() or hasPlannedSprint()))"
   ]
  },
  {
   "cell_type": "code",
   "execution_count": null,
   "id": "e5d50267-e499-42dd-9df1-53669b890b18",
   "metadata": {},
   "outputs": [],
   "source": [
    "a=s.get(\"https://sfera.inno.local/app/tasks/api/v0.1/entities?areaCode=PAYP\", params={'query':\"(statusCategory != 'Done') and (state = 'Normal') and not (hasActiveSprint() or hasPlannedSprint())\",\"size\": \"1000\"}, headers={\"authorization\": None, \"x-dtpc\": \"3$151423566_830h16vJAKARIHUNABROUUUEJNCRFELCTMJJGUF-0e0\"}, cookies={\"rxVisitor\": \"1694522140670BPF47R7ORDEKJ0HJ0DVKPI52411AIV1B\",\n",
    "              \"LANGUAGE\": \"ru\", \"dtSa\": \"-\", \n",
    "              \"dtCookie\": \"v_4_srv_3_sn_2186D8AD04D8CF6012DD4C66FEE39A2C_perc_100000_ol_0_mul_1_app-3Aba15fcbff5d99f0e_1\", \n",
    "              \"dtLatC\": \"2\", \"rxvt\": \"1694551714907|1694545826406\", \"dtPC\": \"3$149864151_228h22vJAKARIHUNABROUUUEJNCRFELCTMJJGUF-0e0\"}).json()"
   ]
  },
  {
   "cell_type": "code",
   "execution_count": null,
   "id": "a0d61cba-bd90-4808-9ae8-7239277afa9c",
   "metadata": {},
   "outputs": [],
   "source": [
    "backlog=pd.DataFrame([extract_value(task) for task in a['content']])\n",
    "backlog['estimation']=backlog['estimation']/3600/8\n",
    "backlog.to_excel('backlog.xlsx',index=False)"
   ]
  },
  {
   "cell_type": "code",
   "execution_count": null,
   "id": "763062fe-0084-4b59-894e-a4ef3c6551b6",
   "metadata": {},
   "outputs": [],
   "source": [
    "extract_value(a['content'][1])"
   ]
  },
  {
   "cell_type": "code",
   "execution_count": null,
   "id": "3520bdf7-739b-43c1-9b2a-b2a62ac3a46b",
   "metadata": {},
   "outputs": [],
   "source": [
    "backlog=pd.DataFrame([extract_value(task) for task in a['content']])\n",
    "backlog['estimation']=backlog['estimation']/3600/8\n",
    "backlog"
   ]
  }
 ],
 "metadata": {
  "kernelspec": {
   "display_name": "Python 3 (ipykernel)",
   "language": "python",
   "name": "python3"
  },
  "language_info": {
   "codemirror_mode": {
    "name": "ipython",
    "version": 3
   },
   "file_extension": ".py",
   "mimetype": "text/x-python",
   "name": "python",
   "nbconvert_exporter": "python",
   "pygments_lexer": "ipython3",
   "version": "3.11.6"
  }
 },
 "nbformat": 4,
 "nbformat_minor": 5
}
